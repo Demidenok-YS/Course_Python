{
  "nbformat": 4,
  "nbformat_minor": 0,
  "metadata": {
    "colab": {
      "provenance": [],
      "authorship_tag": "ABX9TyNJphuGtttivr4E5dpWP0Qk"
    },
    "kernelspec": {
      "name": "python3",
      "display_name": "Python 3"
    },
    "language_info": {
      "name": "python"
    }
  },
  "cells": [
    {
      "cell_type": "markdown",
      "source": [
        "Задание 44\n",
        "\n",
        " В ячейке ниже представлен код генерирующий DataFrame, которая состоит всего из 1 столбца. Ваша задача перевести его в one hot вид. Сможете ли вы это сделать без get_dummies?"
      ],
      "metadata": {
        "id": "F99aFg0YKPvw"
      }
    },
    {
      "cell_type": "code",
      "execution_count": null,
      "metadata": {
        "id": "UKcR3XpkJo-H"
      },
      "outputs": [],
      "source": [
        "import pandas as pd\n",
        "import random\n",
        "lst = ['robot'] * 10\n",
        "lst += ['human'] * 10\n",
        "random.shuffle(lst)\n",
        "data = pd.DataFrame({'whoAmI':lst})\n",
        "data"
      ]
    },
    {
      "cell_type": "code",
      "source": [
        "data.loc[data['whoAmI'] == 'human', 'human'] = 1;\n",
        "data.loc[data['whoAmI'] == 'robot', 'human'] = 0;\n",
        "data.loc[data['whoAmI'] == 'robot', 'robot'] = 1;\n",
        "data.loc[data['whoAmI'] == 'human', 'robot'] = 0;\n",
        "data.drop(columns='whoAmI')\n",
        "\n"
      ],
      "metadata": {
        "id": "hIounb_SLcKD"
      },
      "execution_count": null,
      "outputs": []
    }
  ]
}